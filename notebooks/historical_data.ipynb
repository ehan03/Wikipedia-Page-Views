{
 "cells": [
  {
   "cell_type": "code",
   "execution_count": 3,
   "metadata": {},
   "outputs": [],
   "source": [
    "import requests\n",
    "from datetime import datetime, timezone\n",
    "from json import loads\n",
    "from time import sleep\n",
    "\n",
    "import pandas as pd\n",
    "from fake_useragent import UserAgent"
   ]
  },
  {
   "cell_type": "code",
   "execution_count": 4,
   "metadata": {},
   "outputs": [],
   "source": [
    "language_map = {\n",
    "    \"en\": \"English\",\n",
    "    \"ja\": \"Japanese\",\n",
    "    \"de\": \"German\",\n",
    "    \"ru\": \"Russian\",\n",
    "    \"es\": \"Spanish\",\n",
    "    \"fr\": \"French\",\n",
    "    \"zh\": \"Chinese\",\n",
    "    \"it\": \"Italian\",\n",
    "    \"fa\": \"Persian\",\n",
    "    \"pt\": \"Portuguese\",\n",
    "}\n",
    "access_method_map = {\n",
    "    \"desktop\": \"Desktop\",\n",
    "    \"mobile-app\": \"Mobile App\",\n",
    "    \"mobile-web\": \"Mobile Web\",\n",
    "}\n",
    "agent_type_map = {\n",
    "    \"user\": \"User\",\n",
    "    \"spider\": \"Spider\",\n",
    "    \"automated\": \"Automated\",\n",
    "}\n",
    "\n",
    "start_datetime = \"2016010100\"\n",
    "end_datetime = \"2024123123\"\n",
    "cols = [\"timestamp\", \"language\", \"code\", \"access_method\", \"agent_type\", \"views\"]\n",
    "ua = UserAgent()\n",
    "for lang in language_map:\n",
    "    df_list = []\n",
    "    for access_method in access_method_map:\n",
    "        for agent_type in agent_type_map:\n",
    "            url = f\"https://wikimedia.org/api/rest_v1/metrics/pageviews/aggregate/{lang}.wikipedia.org/{access_method}/{agent_type}/hourly/{start_datetime}/{end_datetime}\"\n",
    "            headers = {\"User-Agent\": ua.random}\n",
    "            response = requests.get(url, headers=headers)\n",
    "\n",
    "            df = pd.DataFrame(loads(response.text)[\"items\"])\n",
    "            df_list.append(df)\n",
    "            sleep(10)\n",
    "    \n",
    "    # Concatenate and create final columns\n",
    "    df_lang = pd.concat(df_list, axis=0, ignore_index=True).rename(columns={\"access\": \"access_method\", \"agent\": \"agent_type\"}).drop(columns=[\"granularity\", \"project\"])\n",
    "    df_lang[\"language\"] = language_map[lang]\n",
    "    df_lang[\"code\"] = lang\n",
    "    df_lang[\"access_method\"] = pd.Categorical(df_lang[\"access_method\"].map(access_method_map), categories=access_method_map.values())\n",
    "    df_lang[\"agent_type\"] = pd.Categorical(df_lang[\"agent_type\"].map(agent_type_map), categories=agent_type_map.values())\n",
    "    df_lang[\"timestamp\"] = pd.to_datetime(df_lang[\"timestamp\"], format=\"%Y%m%d%H\")\n",
    "    \n",
    "    # Sort by timestamp, access_method, agent_type\n",
    "    df_lang = df_lang.sort_values(by=[\"timestamp\", \"access_method\", \"agent_type\"]).reset_index(drop=True)\n",
    "\n",
    "    # Reorder columns\n",
    "    df_lang = df_lang[cols]\n",
    "\n",
    "    # Save to CSV\n",
    "    df_lang.to_csv(f\"../data/{lang}.csv\", index=False)"
   ]
  }
 ],
 "metadata": {
  "kernelspec": {
   "display_name": "steam-bandwidth",
   "language": "python",
   "name": "python3"
  },
  "language_info": {
   "codemirror_mode": {
    "name": "ipython",
    "version": 3
   },
   "file_extension": ".py",
   "mimetype": "text/x-python",
   "name": "python",
   "nbconvert_exporter": "python",
   "pygments_lexer": "ipython3",
   "version": "3.11.9"
  }
 },
 "nbformat": 4,
 "nbformat_minor": 2
}
